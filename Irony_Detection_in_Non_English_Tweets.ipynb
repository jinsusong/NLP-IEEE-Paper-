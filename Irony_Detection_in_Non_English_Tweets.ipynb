{
  "nbformat": 4,
  "nbformat_minor": 0,
  "metadata": {
    "colab": {
      "name": "Irony Detection in Non-English Tweets.ipynb",
      "private_outputs": true,
      "provenance": [],
      "authorship_tag": "ABX9TyOHaPn81DQeskYax5+/HpiC",
      "include_colab_link": true
    },
    "kernelspec": {
      "name": "python3",
      "display_name": "Python 3"
    },
    "language_info": {
      "name": "python"
    }
  },
  "cells": [
    {
      "cell_type": "markdown",
      "metadata": {
        "id": "view-in-github",
        "colab_type": "text"
      },
      "source": [
        "<a href=\"https://colab.research.google.com/github/jinsusong/study-NLP-IEEE-Paper/blob/main/Irony_Detection_in_Non_English_Tweets.ipynb\" target=\"_parent\"><img src=\"https://colab.research.google.com/assets/colab-badge.svg\" alt=\"Open In Colab\"/></a>"
      ]
    },
    {
      "cell_type": "markdown",
      "source": [
        "# Irony Detection in Non-English Tweets"
      ],
      "metadata": {
        "id": "yA-xasZ9BKsN"
      }
    },
    {
      "cell_type": "markdown",
      "source": [
        ""
      ],
      "metadata": {
        "id": "TU7FyL6IWhUv"
      }
    }
  ]
}