{
  "nbformat": 4,
  "nbformat_minor": 0,
  "metadata": {
    "colab": {
      "name": "A Text Classification Method Based on Graph Attention Networks.ipynb",
      "private_outputs": true,
      "provenance": [],
      "authorship_tag": "ABX9TyOr3v8rcGPVjMUmlJTnujWh",
      "include_colab_link": true
    },
    "kernelspec": {
      "name": "python3",
      "display_name": "Python 3"
    },
    "language_info": {
      "name": "python"
    }
  },
  "cells": [
    {
      "cell_type": "markdown",
      "metadata": {
        "id": "view-in-github",
        "colab_type": "text"
      },
      "source": [
        "<a href=\"https://colab.research.google.com/github/jinsusong/study-NLP-IEEE-Paper/blob/main/A_Text_Classification_Method_Based_on_Graph_Attention_Networks.ipynb\" target=\"_parent\"><img src=\"https://colab.research.google.com/assets/colab-badge.svg\" alt=\"Open In Colab\"/></a>"
      ]
    },
    {
      "cell_type": "markdown",
      "source": [
        "# A Text Classification Method Based on Graph Attention Networks"
      ],
      "metadata": {
        "id": "nMPqo3083KZn"
      }
    },
    {
      "cell_type": "markdown",
      "source": [
        "# abstract "
      ],
      "metadata": {
        "id": "Ik5-3u7k3khZ"
      }
    },
    {
      "cell_type": "markdown",
      "source": [
        "- 순차 및 그래프 기반 딥 러닝 모델은 NLP(자연어 처리)에서 자주 사용됩니다. \n",
        "\n",
        "- 순차 모델은 일반적으로 RNN(Recurrent Neural Network), CNN(Convolutional Neural Network) 및 BERT(Bidirectional Encoder Representations from Transformers)를 사용합니다. \n",
        "\n",
        "- 그래프 기반 깊이 모델은 분류를 위한 텍스트와 텍스트의 특성을 학습하기 위해 텍스트 간의 동시 발생 관계를 사용합니다. \n",
        "\n",
        "1. RNN을 이용하여 사전에 텍스트의 특징을 그래프의 노드로 계산하고, \n",
        "\n",
        "2. 텍스트 간의 수정 관계를 이용하여 그래프를 구성하고, \n",
        "\n",
        "3. 그래프 모델을 사용하여 텍스트 범주를 예측하는 데 사용되는 최종 텍스트 기능을 얻습니다. \n",
        "\n",
        "4. 다양한 방법과 실험을 비교한 결과 감정 분류에 사용된 텍스트 데이터 세트에서 본 논문의 방법이 더 나은 결과를 얻었고 정확도는 82.03%에 달했다."
      ],
      "metadata": {
        "id": "rdYr3jI232FZ"
      }
    },
    {
      "cell_type": "markdown",
      "source": [
        ""
      ],
      "metadata": {
        "id": "_a4R0Y0R33J5"
      }
    }
  ]
}